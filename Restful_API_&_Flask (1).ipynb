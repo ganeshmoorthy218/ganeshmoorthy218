{
  "nbformat": 4,
  "nbformat_minor": 0,
  "metadata": {
    "colab": {
      "provenance": []
    },
    "kernelspec": {
      "name": "python3",
      "display_name": "Python 3"
    },
    "language_info": {
      "name": "python"
    }
  },
  "cells": [
    {
      "cell_type": "markdown",
      "source": [
        "#Q1.What is a RESTful API?\n",
        "- A **RESTful API** (Representational State Transfer API) is a web service that follows REST architecture principles, allowing clients to interact with server resources using standard HTTP methods like GET, POST, PUT, and DELETE. It's stateless, meaning each request contains all the information needed, and typically returns data in JSON format.\n",
        "\n"
      ],
      "metadata": {
        "id": "ImyE9RBkDyRs"
      }
    },
    {
      "cell_type": "markdown",
      "source": [
        "#Q2.Explain the concept of API specification.\n",
        "- An **API specification** is a detailed description of how an API works. It defines the available endpoints, request/response formats, authentication methods, and data structures. It serves as a contract between the API provider and consumers, ensuring consistent integration and communication.\n"
      ],
      "metadata": {
        "id": "eR4wcZQnDya3"
      }
    },
    {
      "cell_type": "markdown",
      "source": [
        "#Q3.What is Flask, and why is it popular for building APIs?\n",
        "- **Flask** is a lightweight, Python-based web framework used to build web applications and APIs. It's popular because it's simple, flexible, and easy to get started with. Flask allows developers to create APIs quickly with minimal setup while offering the freedom to scale and customize as needed.\n"
      ],
      "metadata": {
        "id": "djwe3UhGEJS2"
      }
    },
    {
      "cell_type": "markdown",
      "source": [
        "#Q4.What is routing in Flask?\n",
        "- **Routing in Flask** refers to mapping URLs to specific functions in your code. When a user accesses a particular URL, Flask uses the route to determine which function (called a view) should handle the request. This makes it easy to define different endpoints for your web app or API.\n"
      ],
      "metadata": {
        "id": "o6uHbeUsEYWP"
      }
    },
    {
      "cell_type": "markdown",
      "source": [
        "#Q5. How do you create a simple Flask application?\n",
        "To create a simple Flask application:\n",
        "\n",
        "```python\n",
        "from flask import Flask\n",
        "\n",
        "app = Flask(__name__)\n",
        "\n",
        "@app.route('/')\n",
        "def home():\n",
        "    return 'Hello, Flask!'\n",
        "\n",
        "if __name__ == '__main__':\n",
        "    app.run()\n",
        "```\n",
        "\n",
        "This sets up a basic web server with one route (`/`) that returns \"Hello, Flask!\" when accessed.\n"
      ],
      "metadata": {
        "id": "9AWOQTPWEsV9"
      }
    },
    {
      "cell_type": "markdown",
      "source": [
        "#Q6.What are HTTP methods used in RESTful APIs?\n",
        "The main **HTTP methods** used in RESTful APIs are:\n",
        "\n",
        "* **GET** – Retrieve data from the server\n",
        "* **POST** – Send new data to the server\n",
        "* **PUT** – Update existing data\n",
        "* **DELETE** – Remove data\n",
        "* **PATCH** – Partially update data\n",
        "\n",
        "Each method maps to a specific action on a resource.\n"
      ],
      "metadata": {
        "id": "UhnTHDydE3JG"
      }
    },
    {
      "cell_type": "markdown",
      "source": [
        "#Q7.What is the purpose of the @app.route() decorator in Flask?\n",
        "- The `@app.route()` decorator in Flask is used to define a URL path and link it to a specific function. It tells Flask which function should run when a user visits that URL, enabling routing in the application.\n"
      ],
      "metadata": {
        "id": "LvjQE3mhE_0D"
      }
    },
    {
      "cell_type": "markdown",
      "source": [
        "#Q8.What is the difference between GET and POST HTTP methods?\n",
        "- **GET** requests data from the server and appends parameters in the URL; it's used for reading or retrieving resources.\n",
        "**POST** sends data to the server in the request body; it's used for creating or submitting new data.\n",
        "GET is typically used for safe, idempotent operations, while POST is for actions that change server state.\n"
      ],
      "metadata": {
        "id": "3vMX266kFSUU"
      }
    },
    {
      "cell_type": "markdown",
      "source": [
        "#Q9.How do you handle errors in Flask APIs?\n",
        "In Flask APIs, errors are handled using:\n",
        "\n",
        "* **`@app.errorhandler()` decorator** to catch specific errors (e.g., 404, 500).\n",
        "* **Returning custom JSON responses** with proper status codes.\n",
        "* **Try-except blocks** in routes for catching exceptions.\n",
        "\n",
        "Example:\n",
        "\n",
        "```python\n",
        "@app.errorhandler(404)\n",
        "def not_found(e):\n",
        "    return {'error': 'Not found'}, 404\n",
        "```\n"
      ],
      "metadata": {
        "id": "ZupCwHdCFe_Z"
      }
    },
    {
      "cell_type": "markdown",
      "source": [
        "#Q10.How do you connect Flask to a SQL database?\n",
        "To connect Flask to a SQL database, you typically use **Flask-SQLAlchemy**, an extension that integrates SQLAlchemy with Flask.\n",
        "\n",
        "Basic setup:\n",
        "\n",
        "```python\n",
        "from flask import Flask\n",
        "from flask_sqlalchemy import SQLAlchemy\n",
        "\n",
        "app = Flask(__name__)\n",
        "app.config['SQLALCHEMY_DATABASE_URI'] = 'sqlite:///example.db'  # or use MySQL/PostgreSQL URI\n",
        "db = SQLAlchemy(app)\n",
        "```\n",
        "\n",
        "This sets up the database connection and allows you to define models and interact with the database.\n"
      ],
      "metadata": {
        "id": "F3e_iXcHFsAX"
      }
    },
    {
      "cell_type": "markdown",
      "source": [
        "#Q11.What is the role of Flask-SQLAlchemy?\n",
        "**Flask-SQLAlchemy** is an extension for Flask that simplifies the integration of SQLAlchemy with Flask applications. It provides an easy way to interact with databases by offering tools for defining models, querying, and managing database sessions. It also handles the database URI configuration and integrates seamlessly with Flask's app lifecycle.\n"
      ],
      "metadata": {
        "id": "HIUH2FB5Fzyj"
      }
    },
    {
      "cell_type": "markdown",
      "source": [
        "#Q12.What are Flask blueprints, and how are they useful?\n",
        "**Flask blueprints** are a way to organize and structure a Flask application into smaller, reusable components. They allow you to define routes, templates, and static files in separate modules, making the code more modular and maintainable. Blueprints are useful for building large applications or for creating reusable code across different projects.\n"
      ],
      "metadata": {
        "id": "BOOi67mrF93l"
      }
    },
    {
      "cell_type": "markdown",
      "source": [
        "#Q13.What is the purpose of Flask's request object?\n",
        "Flask's **`request`** object is used to access data sent by the client in an HTTP request. It allows you to retrieve form data, query parameters, JSON payloads, headers, and other request-related information. The `request` object helps you interact with the incoming data and perform necessary actions within your Flask route handlers.\n"
      ],
      "metadata": {
        "id": "p8Uene4qGFnN"
      }
    },
    {
      "cell_type": "markdown",
      "source": [
        "#Q14.How do you create a RESTful API endpoint using Flask?\n",
        "To create a RESTful API endpoint in Flask, define a route with the desired HTTP method and return data, typically in JSON format.\n",
        "\n",
        "Example:\n",
        "\n",
        "```python\n",
        "from flask import Flask, jsonify\n",
        "\n",
        "app = Flask(__name__)\n",
        "\n",
        "@app.route('/api/data', methods=['GET'])\n",
        "def get_data():\n",
        "    data = {'message': 'Hello, World!'}\n",
        "    return jsonify(data)\n",
        "\n",
        "if __name__ == '__main__':\n",
        "    app.run()\n",
        "```\n",
        "\n",
        "This creates a simple GET endpoint (`/api/data`) that returns a JSON response.\n"
      ],
      "metadata": {
        "id": "68RGHcluGMf8"
      }
    },
    {
      "cell_type": "markdown",
      "source": [
        "#Q15.What is the purpose of Flask's jsonify() function?\n",
        "- Flask's **`jsonify()`** function is used to convert Python dictionaries or lists into JSON format and return them as HTTP responses with the correct **`Content-Type`** (`application/json`). It also ensures proper encoding and handles any special characters. It's commonly used in RESTful APIs to send structured data in response to client requests.\n",
        "\n",
        "Example:\n",
        "\n",
        "```python\n",
        "from flask import jsonify\n",
        "\n",
        "@app.route('/api/message')\n",
        "def get_message():\n",
        "    return jsonify(message=\"Hello, World!\")\n",
        "```\n",
        "\n",
        "This will return a JSON response like `{\"message\": \"Hello, World!\"}`.\n"
      ],
      "metadata": {
        "id": "39FsgmHiGX6N"
      }
    },
    {
      "cell_type": "markdown",
      "source": [
        "#Q16.Explain Flask’s url\\_for() function?\n",
        "Flask's **`url_for()`** function is used to generate the URL for a specific route based on the function name, rather than hardcoding the URL. It helps keep your code more maintainable by automatically updating URLs if routes change. You can also pass URL parameters to `url_for()` if needed.\n",
        "\n",
        "Example:\n",
        "\n",
        "```python\n",
        "from flask import url_for\n",
        "\n",
        "@app.route('/home')\n",
        "def home():\n",
        "    return 'Home Page'\n",
        "\n",
        "@app.route('/profile')\n",
        "def profile():\n",
        "    return url_for('home')  # Generates the URL for the 'home' route\n",
        "```\n",
        "\n",
        "This will return the URL for the `/home` route when calling `url_for('home')`.\n"
      ],
      "metadata": {
        "id": "6IveJF3LIfi_"
      }
    },
    {
      "cell_type": "markdown",
      "source": [
        "#Q17. How does Flask handle static files (CSS, JavaScript, etc.)?\n",
        "Flask handles static files (like CSS, JavaScript, and images) by serving them from a **`static`** folder in the project directory. When you place static files inside this folder, Flask automatically makes them accessible via URLs like `/static/<filename>`.\n",
        "\n",
        "Example:\n",
        "\n",
        "* Place `style.css` in the `static` folder.\n",
        "* Access it via `http://localhost:5000/static/style.css`.\n",
        "\n",
        "You can customize the folder name with `app.config['STATIC_FOLDER']` if needed.\n"
      ],
      "metadata": {
        "id": "W5kpoYsyIrox"
      }
    },
    {
      "cell_type": "markdown",
      "source": [
        "#Q18. What is an API specification, and how does it help in building a Flask API?\n",
        "An **API specification** is a detailed document that describes the endpoints, request/response formats, data types, authentication methods, and status codes of an API. It serves as a blueprint for developers, ensuring consistent implementation and helping with proper communication between the client and server.\n",
        "\n",
        "In Flask API development, an API specification helps by:\n",
        "\n",
        "* Defining clear endpoint routes and expected behaviors.\n",
        "* Ensuring correct data handling and validation.\n",
        "* Serving as a guide for both frontend and backend developers to work in sync.\n",
        "\n",
        "Common specifications include **OpenAPI** or **Swagger**.\n"
      ],
      "metadata": {
        "id": "tny7GwqgIzRu"
      }
    },
    {
      "cell_type": "markdown",
      "source": [
        "#Q19.What are HTTP status codes, and why are they important in a Flask API?\n",
        "**HTTP status codes** are three-digit numbers returned by the server to indicate the result of a client's request. They help convey whether the request was successful, encountered an error, or requires further action.\n",
        "\n",
        "* **2xx**: Success (e.g., 200 OK, 201 Created)\n",
        "* **4xx**: Client errors (e.g., 400 Bad Request, 404 Not Found)\n",
        "* **5xx**: Server errors (e.g., 500 Internal Server Error)\n",
        "\n",
        "In a Flask API, status codes are crucial for indicating the outcome of API requests, allowing clients to understand if the operation was successful or if any issues occurred.\n"
      ],
      "metadata": {
        "id": "zOVwWTyAI61b"
      }
    },
    {
      "cell_type": "markdown",
      "source": [
        "#Q20.How do you handle POST requests in Flask?\n",
        "To handle **POST requests** in Flask, use the `@app.route()` decorator with the `methods=['POST']` argument, and access the incoming data from the `request` object.\n",
        "\n",
        "Example:\n",
        "\n",
        "```python\n",
        "from flask import Flask, request, jsonify\n",
        "\n",
        "app = Flask(__name__)\n",
        "\n",
        "@app.route('/api/data', methods=['POST'])\n",
        "def handle_post():\n",
        "    data = request.json  # Get JSON data from the request body\n",
        "    return jsonify({\"received\": data}), 201  # Respond with the received data\n",
        "\n",
        "if __name__ == '__main__':\n",
        "    app.run()\n",
        "```\n",
        "\n",
        "This will handle POST requests to `/api/data`, retrieve the JSON data sent by the client, and respond with the same data.\n"
      ],
      "metadata": {
        "id": "PjQNcC2dJCYp"
      }
    },
    {
      "cell_type": "markdown",
      "source": [
        "#Q21. How would you secure a Flask API?\n",
        "To secure a Flask API, consider the following key approaches:\n",
        "\n",
        "1. **Authentication & Authorization**: Use methods like **JWT (JSON Web Tokens)** or **OAuth** to ensure only authorized users can access specific endpoints.\n",
        "\n",
        "2. **Input Validation**: Validate incoming data to prevent SQL injection and other malicious inputs.\n",
        "\n",
        "3. **HTTPS**: Use **SSL/TLS** to encrypt communication between the client and server.\n",
        "\n",
        "4. **CORS (Cross-Origin Resource Sharing)**: Control which domains can access your API by using **Flask-CORS**.\n",
        "\n",
        "5. **Rate Limiting**: Protect your API from abuse with **Flask-Limiter** to limit the number of requests from a user or IP.\n",
        "\n",
        "By implementing these measures, you can greatly improve the security of your Flask API.\n"
      ],
      "metadata": {
        "id": "A6OVE3EVJLMY"
      }
    },
    {
      "cell_type": "markdown",
      "source": [
        "#Q22.What is the significance of the Flask-RESTful extension?\n",
        "**Flask-RESTful** is an extension that simplifies building RESTful APIs in Flask. It provides tools for defining resources, handling HTTP methods (GET, POST, PUT, DELETE), and returning structured responses. Flask-RESTful helps organize API code, improve readability, and supports features like input parsing, error handling, and automatic response formatting, making it easier to develop and maintain RESTful APIs.\n"
      ],
      "metadata": {
        "id": "FeFF1fT4JXGY"
      }
    },
    {
      "cell_type": "markdown",
      "source": [
        "#Q23.What is the role of Flask’s session object?\n",
        "Flask’s **`session`** object is used to store data between requests for a specific user. It allows you to persist user-specific information (like login status or preferences) across multiple interactions with the web app. The data is stored in a secure cookie on the client-side and can be accessed and modified during the request cycle. It helps create a more personalized user experience.\n"
      ],
      "metadata": {
        "id": "NMR752zHJegv"
      }
    },
    {
      "cell_type": "markdown",
      "source": [
        "Practical"
      ],
      "metadata": {
        "id": "mSOYkwI5Jrmf"
      }
    },
    {
      "cell_type": "code",
      "source": [
        "#Q1.How do you create a basic Flask application?\n",
        "\n",
        "!pip install Flask\n",
        "\n",
        "from flask import Flask\n",
        "\n",
        "app = Flask(__name__)\n",
        "\n",
        "@app.route('/')\n",
        "def hello_world():\n",
        "    return 'Hello, World!'\n",
        "\n",
        "if __name__ == '__main__':\n",
        "    # In a real Colab environment, you'd typically use a library like `ngrok`\n",
        "    # or `flask-ngrok` to expose your local Flask server to the internet.\n",
        "    # For a simple test within Colab, you can run it like this:\n",
        "    app.run(host='0.0.0.0', port=5000)"
      ],
      "metadata": {
        "colab": {
          "base_uri": "https://localhost:8080/"
        },
        "id": "NM9LF6ESJuaQ",
        "outputId": "3ca419f3-3fc8-4d87-f176-fa04781ed060"
      },
      "execution_count": null,
      "outputs": [
        {
          "output_type": "stream",
          "name": "stdout",
          "text": [
            "Requirement already satisfied: Flask in /usr/local/lib/python3.11/dist-packages (3.1.1)\n",
            "Requirement already satisfied: blinker>=1.9.0 in /usr/local/lib/python3.11/dist-packages (from Flask) (1.9.0)\n",
            "Requirement already satisfied: click>=8.1.3 in /usr/local/lib/python3.11/dist-packages (from Flask) (8.2.0)\n",
            "Requirement already satisfied: itsdangerous>=2.2.0 in /usr/local/lib/python3.11/dist-packages (from Flask) (2.2.0)\n",
            "Requirement already satisfied: jinja2>=3.1.2 in /usr/local/lib/python3.11/dist-packages (from Flask) (3.1.6)\n",
            "Requirement already satisfied: markupsafe>=2.1.1 in /usr/local/lib/python3.11/dist-packages (from Flask) (3.0.2)\n",
            "Requirement already satisfied: werkzeug>=3.1.0 in /usr/local/lib/python3.11/dist-packages (from Flask) (3.1.3)\n",
            " * Serving Flask app '__main__'\n",
            " * Debug mode: off\n"
          ]
        },
        {
          "output_type": "stream",
          "name": "stderr",
          "text": [
            "INFO:werkzeug:\u001b[31m\u001b[1mWARNING: This is a development server. Do not use it in a production deployment. Use a production WSGI server instead.\u001b[0m\n",
            " * Running on all addresses (0.0.0.0)\n",
            " * Running on http://127.0.0.1:5000\n",
            " * Running on http://172.28.0.12:5000\n",
            "INFO:werkzeug:\u001b[33mPress CTRL+C to quit\u001b[0m\n"
          ]
        }
      ]
    },
    {
      "cell_type": "code",
      "source": [
        "#Q2.How do you serve static files like images or CSS in Flask\n",
        "from flask import Flask, render_template\n",
        "\n",
        "app = Flask(__name__)\n",
        "\n",
        "@app.route('/')\n",
        "def home():\n",
        "    return render_template('index.html')\n",
        "\n",
        "from flask import Flask, render_template\n",
        "\n",
        "app = Flask(__name__)\n",
        "\n",
        "@app.route('/')\n",
        "\n",
        "def home():\n",
        "    return render_template('index.html')\n",
        "\n",
        "if __name__ == '__main__':\n",
        "    app.run(debug=True)\n",
        "# <h1>Welcome to My Flask App</h1>\n",
        "# <img src=\"{{ url_for('static', filename='images/logo.png') }}\" alt=\"Logo\">\n",
        "# </body>\n",
        "# </html>"
      ],
      "metadata": {
        "colab": {
          "base_uri": "https://localhost:8080/"
        },
        "id": "OZKsIrM7exO6",
        "outputId": "4ed0e51e-b523-4955-a804-8ef3e4cc3abd"
      },
      "execution_count": null,
      "outputs": [
        {
          "output_type": "stream",
          "name": "stdout",
          "text": [
            " * Serving Flask app '__main__'\n",
            " * Debug mode: on\n"
          ]
        },
        {
          "output_type": "stream",
          "name": "stderr",
          "text": [
            "INFO:werkzeug:\u001b[31m\u001b[1mWARNING: This is a development server. Do not use it in a production deployment. Use a production WSGI server instead.\u001b[0m\n",
            " * Running on http://127.0.0.1:5000\n",
            "INFO:werkzeug:\u001b[33mPress CTRL+C to quit\u001b[0m\n",
            "INFO:werkzeug: * Restarting with stat\n"
          ]
        }
      ]
    },
    {
      "cell_type": "code",
      "source": [
        " #Q3.How do you define different routes with different HTTP methods in Flask?\n",
        "from flask import Flask, request, jsonify\n",
        "\n",
        "app = Flask(__name__)\n",
        "\n",
        "# Route for GET method\n",
        "@app.route('/get-example', methods=['GET'])\n",
        "def get_example():\n",
        "    return jsonify(message=\"This is a GET request\")\n",
        "\n",
        "# Route for POST method\n",
        "@app.route('/post-example', methods=['POST'])\n",
        "def post_example():\n",
        "    data = request.json\n",
        "    return jsonify(message=\"This is a POST request\", data=data), 201\n",
        "\n",
        "# Route supporting both GET and POST\n",
        "@app.route('/multi-method', methods=['GET', 'POST'])\n",
        "def multi_method():\n",
        "    if request.method == 'GET':\n",
        "        return jsonify(message=\"GET method called\")\n",
        "    elif request.method == 'POST':\n",
        "        data = request.json\n",
        "        return jsonify(message=\"POST method called\", data=data)\n",
        "\n",
        "if __name__ == '__main__':\n",
        "    app.run(debug=True)\n"
      ],
      "metadata": {
        "colab": {
          "base_uri": "https://localhost:8080/"
        },
        "id": "_0sDa63jgXed",
        "outputId": "70816cb6-becf-4ae4-9eb1-d2cafbfdae96"
      },
      "execution_count": null,
      "outputs": [
        {
          "output_type": "stream",
          "name": "stdout",
          "text": [
            " * Serving Flask app '__main__'\n",
            " * Debug mode: on\n"
          ]
        },
        {
          "output_type": "stream",
          "name": "stderr",
          "text": [
            "INFO:werkzeug:\u001b[31m\u001b[1mWARNING: This is a development server. Do not use it in a production deployment. Use a production WSGI server instead.\u001b[0m\n",
            " * Running on http://127.0.0.1:5000\n",
            "INFO:werkzeug:\u001b[33mPress CTRL+C to quit\u001b[0m\n",
            "INFO:werkzeug: * Restarting with stat\n"
          ]
        }
      ]
    },
    {
      "cell_type": "code",
      "source": [
        "#Q4.How do you render HTML templates in Flask?\n",
        "# Ensure Flask is installed\n",
        "!pip install Flask\n",
        "\n",
        "from flask import Flask, render_template\n",
        "\n",
        "# Define the Flask app instance ONCE\n",
        "app = Flask(__name__)\n",
        "\n",
        "# Define the route for rendering the template\n",
        "# We assume 'my_template.html' exists in a 'templates' folder in the same directory\n",
        "@app.route('/my-page')\n",
        "def my_page():\n",
        "  return render_template('my_template.html', title='My Custom Title', content='This is dynamic content.')\n",
        "\n",
        "# Add other routes here if needed, using the SAME 'app' instance\n",
        "# For example, from Q2:\n",
        "# @app.route('/')\n",
        "# def home():\n",
        "#     # Note: You would need to create an 'index.html' in the 'templates' folder\n",
        "#     return render_template('index.html')\n",
        "\n",
        "\n",
        "# Only run the app if this script is executed directly\n",
        "# In a notebook, you might need to handle running the app differently\n",
        "# or use a library like flask-ngrok to expose it.\n",
        "# For this example, running this cell will start the server.\n",
        "if __name__ == '__main__':\n",
        "    # Using debug=True is helpful during development\n",
        "    app.run(debug=True)"
      ],
      "metadata": {
        "colab": {
          "base_uri": "https://localhost:8080/"
        },
        "id": "XYvcFlt9geSa",
        "outputId": "d905d65b-76eb-4da8-9020-b43235f50fa0"
      },
      "execution_count": null,
      "outputs": [
        {
          "output_type": "stream",
          "name": "stdout",
          "text": [
            "Requirement already satisfied: Flask in /usr/local/lib/python3.11/dist-packages (3.1.1)\n",
            "Requirement already satisfied: blinker>=1.9.0 in /usr/local/lib/python3.11/dist-packages (from Flask) (1.9.0)\n",
            "Requirement already satisfied: click>=8.1.3 in /usr/local/lib/python3.11/dist-packages (from Flask) (8.2.0)\n",
            "Requirement already satisfied: itsdangerous>=2.2.0 in /usr/local/lib/python3.11/dist-packages (from Flask) (2.2.0)\n",
            "Requirement already satisfied: jinja2>=3.1.2 in /usr/local/lib/python3.11/dist-packages (from Flask) (3.1.6)\n",
            "Requirement already satisfied: markupsafe>=2.1.1 in /usr/local/lib/python3.11/dist-packages (from Flask) (3.0.2)\n",
            "Requirement already satisfied: werkzeug>=3.1.0 in /usr/local/lib/python3.11/dist-packages (from Flask) (3.1.3)\n",
            " * Serving Flask app '__main__'\n",
            " * Debug mode: on\n"
          ]
        },
        {
          "output_type": "stream",
          "name": "stderr",
          "text": [
            "INFO:werkzeug:\u001b[31m\u001b[1mWARNING: This is a development server. Do not use it in a production deployment. Use a production WSGI server instead.\u001b[0m\n",
            " * Running on http://127.0.0.1:5000\n",
            "INFO:werkzeug:\u001b[33mPress CTRL+C to quit\u001b[0m\n",
            "INFO:werkzeug: * Restarting with stat\n"
          ]
        }
      ]
    },
    {
      "cell_type": "code",
      "source": [
        "#Q5.How can you generate URLs for routes in Flask using url_for?\n",
        "from flask import Flask, url_for\n",
        "\n",
        "app = Flask(__name__)\n",
        "\n",
        "@app.route('/about')\n",
        "def about():\n",
        "    return 'About Page'\n",
        "\n",
        "@app.route('/')\n",
        "def home():\n",
        "    # Generates the URL for the 'about' function\n",
        "    return f\"Go to the About page: {url_for('about')}\"\n",
        "\n",
        "# Correct indentation for the profile function\n",
        "@app.route('/user/<username>')\n",
        "def profile(username):\n",
        "    return f\"User: {username}\"\n",
        "\n",
        "# Correct indentation for the link function\n",
        "@app.route('/link')\n",
        "def link():\n",
        "    return url_for('profile', username='john_doe')\n",
        "\n",
        "# Add the code to run the Flask app\n",
        "if __name__ == '__main__':\n",
        "    app.run(debug=True)\n",
        "\n"
      ],
      "metadata": {
        "colab": {
          "base_uri": "https://localhost:8080/"
        },
        "id": "B8nhEVQAjddj",
        "outputId": "86a14b13-edcf-4c28-8c59-09c61e53437b"
      },
      "execution_count": null,
      "outputs": [
        {
          "output_type": "stream",
          "name": "stdout",
          "text": [
            " * Serving Flask app '__main__'\n",
            " * Debug mode: on\n"
          ]
        },
        {
          "output_type": "stream",
          "name": "stderr",
          "text": [
            "INFO:werkzeug:\u001b[31m\u001b[1mWARNING: This is a development server. Do not use it in a production deployment. Use a production WSGI server instead.\u001b[0m\n",
            " * Running on http://127.0.0.1:5000\n",
            "INFO:werkzeug:\u001b[33mPress CTRL+C to quit\u001b[0m\n",
            "INFO:werkzeug: * Restarting with stat\n"
          ]
        }
      ]
    },
    {
      "cell_type": "code",
      "source": [
        "#Q6.How do you handle forms in Flask?\n",
        "In **Flask**, handling forms involves three main steps:\n",
        "\n",
        "---\n",
        "\n",
        "### ✅ 1. **Create an HTML Form**\n",
        "\n",
        "You write a form in your HTML template using the `POST` or `GET` method.\n",
        "\n",
        "```html\n",
        "<!-- templates/form.html -->\n",
        "<form method=\"POST\" action=\"/submit\">\n",
        "  <input type=\"text\" name=\"username\" placeholder=\"Enter your name\" required>\n",
        "  <input type=\"submit\" value=\"Submit\">\n",
        "</form>\n",
        "```\n",
        "\n",
        "---\n",
        "\n",
        "### ✅ 2. **Create Flask Routes to Render and Handle the Form**\n",
        "\n",
        "```python\n",
        "from flask import Flask, request, render_template\n",
        "\n",
        "app = Flask(__name__)\n",
        "\n",
        "@app.route('/')\n",
        "def show_form():\n",
        "    return render_template('form.html')  # Shows the form\n",
        "\n",
        "@app.route('/submit', methods=['POST'])\n",
        "def handle_form():\n",
        "    username = request.form['username']  # Get form data\n",
        "    return f\"Hello, {username}!\"  # Display result\n",
        "\n",
        "if __name__ == '__main__':\n",
        "    app.run(debug=True)\n",
        "```\n",
        "\n",
        "---\n",
        "\n",
        "### ✅ 3. **Access Form Data with `request.form`**\n",
        "\n",
        "* `request.form['fieldname']` or `request.form.get('fieldname')` is used to get form values.\n",
        "* For **GET** forms, use `request.args.get('fieldname')`.\n",
        "\n",
        "---\n",
        "\n",
        "### ✅ Summary:\n",
        "\n",
        "* **HTML form** sends data to a Flask route.\n",
        "* **Flask route** reads and processes data using `request.form`.\n",
        "* You can validate and respond accordingly.\n",
        "\n",
        "Let me know if you'd like an example using **Flask-WTF** for advanced form handling and validation.\n"
      ],
      "metadata": {
        "id": "v1AzieKHxT_w"
      },
      "execution_count": null,
      "outputs": []
    },
    {
      "cell_type": "code",
      "source": [
        "#Q7. How can you validate form data in Flask?\n",
        "In **Flask**, you can validate form data in two main ways:\n",
        "\n",
        "---\n",
        "\n",
        "### ✅ 1. **Manual Validation with `request.form`**\n",
        "\n",
        "You check inputs yourself after form submission.\n",
        "\n",
        "#### 🔹 Example:\n",
        "\n",
        "```python\n",
        "from flask import Flask, request, render_template\n",
        "\n",
        "app = Flask(__name__)\n",
        "\n",
        "@app.route('/')\n",
        "def form():\n",
        "    return render_template('form.html')\n",
        "\n",
        "@app.route('/submit', methods=['POST'])\n",
        "def submit():\n",
        "    name = request.form.get('name')\n",
        "    if not name or len(name) < 2:\n",
        "        return \"Invalid input: name must be at least 2 characters.\", 400\n",
        "    return f\"Hello, {name}!\"\n",
        "\n",
        "if __name__ == '__main__':\n",
        "    app.run(debug=True)\n",
        "```\n",
        "\n",
        "#### 🔹 HTML (`templates/form.html`):\n",
        "\n",
        "```html\n",
        "<form method=\"POST\" action=\"/submit\">\n",
        "  <input type=\"text\" name=\"name\" placeholder=\"Enter your name\">\n",
        "  <input type=\"submit\" value=\"Submit\">\n",
        "</form>\n",
        "```\n",
        "\n",
        "---\n",
        "\n",
        "### ✅ 2. **Using Flask-WTF for Built-in Validation**\n",
        "\n",
        "#### 🔹 Install:\n",
        "\n",
        "```bash\n",
        "pip install flask-wtf\n",
        "```\n",
        "\n",
        "#### 🔹 Example with Flask-WTF:\n",
        "\n",
        "```python\n",
        "from flask import Flask, render_template\n",
        "from flask_wtf import FlaskForm\n",
        "from wtforms import StringField, SubmitField\n",
        "from wtforms.validators import DataRequired, Length\n",
        "\n",
        "app = Flask(__name__)\n",
        "app.secret_key = 'secret'  # Required for CSRF protection\n",
        "\n",
        "class NameForm(FlaskForm):\n",
        "    name = StringField('Name', validators=[DataRequired(), Length(min=2)])\n",
        "    submit = SubmitField('Submit')\n",
        "\n",
        "@app.route('/', methods=['GET', 'POST'])\n",
        "def index():\n",
        "    form = NameForm()\n",
        "    if form.validate_on_submit():\n",
        "        return f\"Hello, {form.name.data}!\"\n",
        "    return render_template('form_wtf.html', form=form)\n",
        "\n",
        "if __name__ == '__main__':\n",
        "    app.run(debug=True)\n",
        "```\n",
        "\n",
        "#### 🔹 Template (`templates/form_wtf.html`):\n",
        "\n",
        "```html\n",
        "<form method=\"POST\">\n",
        "  {{ form.hidden_tag() }}\n",
        "  {{ form.name.label }} {{ form.name() }}<br>\n",
        "  {{ form.submit() }}\n",
        "  {% for field, errors in form.errors.items() %}\n",
        "    {% for error in errors %}\n",
        "      <p style=\"color:red;\">{{ error }}</p>\n",
        "    {% endfor %}\n",
        "  {% endfor %}\n",
        "</form>\n",
        "```\n",
        "\n",
        "---\n",
        "\n",
        "### 📝 Summary:\n",
        "\n",
        "| Method                  | Best For                                         |\n",
        "| ----------------------- | ------------------------------------------------ |\n",
        "| Manual (`request.form`) | Simple forms or small projects                   |\n",
        "| Flask-WTF               | Large apps, advanced validation, CSRF protection |\n",
        "\n",
        "Let me know if you'd like to validate emails, passwords, or file uploads!\n"
      ],
      "metadata": {
        "id": "TUgHlgIZxgaN"
      },
      "execution_count": null,
      "outputs": []
    },
    {
      "cell_type": "code",
      "source": [
        "#Q8.How do you manage sessions in Flask?\n",
        "In **Flask**, you manage **sessions** to store user-specific data (like login status) between requests. Flask uses **secure cookies** to store session data client-side, signed with your app’s **`secret_key`** so it can't be tampered with.\n",
        "\n",
        "---\n",
        "\n",
        "### ✅ **1. Set a Secret Key**\n",
        "\n",
        "```python\n",
        "from flask import Flask, session\n",
        "\n",
        "app = Flask(__name__)\n",
        "app.secret_key = 'your_secret_key'  # Required for signing session cookies\n",
        "```\n",
        "\n",
        "---\n",
        "\n",
        "### ✅ **2. Set Session Data**\n",
        "\n",
        "```python\n",
        "@app.route('/login')\n",
        "def login():\n",
        "    session['user'] = 'JohnDoe'  # Save data in session\n",
        "    return \"User logged in!\"\n",
        "```\n",
        "\n",
        "---\n",
        "\n",
        "### ✅ **3. Access Session Data**\n",
        "\n",
        "```python\n",
        "@app.route('/dashboard')\n",
        "def dashboard():\n",
        "    if 'user' in session:\n",
        "        return f\"Welcome {session['user']}!\"\n",
        "    return \"You are not logged in.\"\n",
        "```\n",
        "\n",
        "---\n",
        "\n",
        "### ✅ **4. Remove Session Data (Logout)**\n",
        "\n",
        "```python\n",
        "@app.route('/logout')\n",
        "def logout():\n",
        "    session.pop('user', None)  # Safely remove user\n",
        "    return \"Logged out!\"\n",
        "```\n",
        "\n",
        "---\n",
        "\n",
        "### ✅ Summary\n",
        "\n",
        "| Operation    | Code Example                  |\n",
        "| ------------ | ----------------------------- |\n",
        "| Set data     | `session['key'] = value`      |\n",
        "| Get data     | `session.get('key')`          |\n",
        "| Remove data  | `session.pop('key', None)`    |\n",
        "| Requires key | `app.secret_key = 'your_key'` |\n",
        "\n",
        "---\n",
        "\n",
        "### 🔒 Security Tip:\n",
        "\n",
        "* Never store sensitive info (like passwords) in sessions.\n",
        "* Use server-side sessions (e.g. Redis) for advanced control (ask if you'd like help with that!).\n",
        "\n",
        "Let me know if you want to expand this with **user login authentication**!\n"
      ],
      "metadata": {
        "id": "EXZSMJZuxrqX"
      },
      "execution_count": null,
      "outputs": []
    },
    {
      "cell_type": "code",
      "source": [
        "#Q9.How do you redirect to a different route in Flask?\n",
        "from flask import Flask, redirect, url_for\n",
        "\n",
        "app = Flask(__name__)\n",
        "\n",
        "@app.route('/')\n",
        "def home():\n",
        "    return \"Home Page\"\n",
        "\n",
        "@app.route('/login')\n",
        "def login():\n",
        "    # After login logic, redirect to dashboard\n",
        "    return redirect(url_for('dashboard'))\n",
        "\n",
        "@app.route('/dashboard')\n",
        "def dashboard():\n",
        "    return \"Welcome to the Dashboard!\""
      ],
      "metadata": {
        "id": "dPVBBKgfzFT-"
      },
      "execution_count": null,
      "outputs": []
    },
    {
      "cell_type": "code",
      "source": [
        "#Q10.How do you handle errors in Flask (e.g., 404)?\n",
        "from flask import Flask\n",
        "\n",
        "app = Flask(__name__)\n",
        "\n",
        "@app.route('/')\n",
        "def home():\n",
        "    return \"Welcome to the homepage!\"\n",
        "\n",
        "# Handle 404 Not Found errors\n",
        "@app.errorhandler(404)\n",
        "def page_not_found(error):\n",
        "    return \"Oops! Page not found (404).\", 404\n"
      ],
      "metadata": {
        "id": "3m1TClq1zRHL"
      },
      "execution_count": null,
      "outputs": []
    },
    {
      "cell_type": "code",
      "source": [
        "#Q11.How do you structure a Flask app using Blueprints?\n",
        "Using **Blueprints** in Flask helps you **organize your app into modular components**, especially useful for larger applications. A **Blueprint** is like a mini-app with its own routes, templates, and static files that can be registered on the main app.\n",
        "\n",
        "---\n",
        "\n",
        "### ✅ **1. Project Structure Example**\n",
        "\n",
        "```\n",
        "myapp/\n",
        "│\n",
        "├── app.py\n",
        "├── main/\n",
        "│   ├── __init__.py\n",
        "│   └── routes.py\n",
        "```\n",
        "\n",
        "---\n",
        "\n",
        "### ✅ **2. Define a Blueprint (`main/routes.py`)**\n",
        "\n",
        "```python\n",
        "from flask import Blueprint\n",
        "\n",
        "main = Blueprint('main', __name__)\n",
        "\n",
        "@main.route('/')\n",
        "def home():\n",
        "    return \"Welcome from the main Blueprint!\"\n",
        "```\n",
        "\n",
        "---\n",
        "\n",
        "### ✅ **3. Initialize Blueprint (`main/__init__.py`)**\n",
        "\n",
        "```python\n",
        "from .routes import main\n",
        "```\n",
        "\n",
        "---\n",
        "\n",
        "### ✅ **4. Register Blueprint in Main App (`app.py`)**\n",
        "\n",
        "```python\n",
        "from flask import Flask\n",
        "from main import main  # Import the blueprint\n",
        "\n",
        "app = Flask(__name__)\n",
        "app.register_blueprint(main)  # Register it\n",
        "\n",
        "if __name__ == '__main__':\n",
        "    app.run(debug=True)\n",
        "\n"
      ],
      "metadata": {
        "id": "UFfFBglUzrLj"
      },
      "execution_count": null,
      "outputs": []
    },
    {
      "cell_type": "code",
      "source": [
        "#Q12.How do you define a custom Jinja filter in Flask?\n",
        "In **Flask**, you can define a **custom Jinja filter** to apply custom transformations to variables in your templates.\n",
        "\n",
        "---\n",
        "\n",
        "### ✅ **1. Define the Filter Function**\n",
        "\n",
        "```python\n",
        "def reverse_string(s):\n",
        "    return s[::-1]\n",
        "```\n",
        "\n",
        "---\n",
        "\n",
        "### ✅ **2. Register the Filter with Flask**\n",
        "\n",
        "You register it with `app.template_filter()` or `app.jinja_env.filters`.\n",
        "\n",
        "```python\n",
        "from flask import Flask\n",
        "\n",
        "app = Flask(__name__)\n",
        "\n",
        "@app.template_filter('reverse')\n",
        "def reverse_string(s):\n",
        "    return s[::-1]\n",
        "```\n",
        "\n",
        "Or:\n",
        "\n",
        "```python\n",
        "app.jinja_env.filters['reverse'] = reverse_string\n",
        "```\n",
        "\n",
        "---\n",
        "\n",
        "### ✅ **3. Use the Filter in a Template**\n",
        "\n",
        "```html\n",
        "<!-- templates/example.html -->\n",
        "<p>Original: {{ \"Hello\" }}</p>\n",
        "<p>Reversed: {{ \"Hello\" | reverse }}</p>\n",
        "```\n",
        "\n",
        "---\n",
        "\n",
        "### ✅ Example Output:\n",
        "\n",
        "```\n",
        "Original: Hello\n",
        "Reversed: olleH\n",
        "```\n"
      ],
      "metadata": {
        "id": "EbU0X4AXz5oV"
      },
      "execution_count": null,
      "outputs": []
    },
    {
      "cell_type": "code",
      "source": [
        "#Q13.How can you redirect with query parameters in Flask?\n",
        "from flask import Flask, redirect, url_for\n",
        "\n",
        "app = Flask(__name__)\n",
        "\n",
        "@app.route('/')\n",
        "def home():\n",
        "    return \"Welcome to the Home page! <a href='/redirect_with_query'>Click to redirect</a>\"\n",
        "\n",
        "@app.route('/redirect_with_query')\n",
        "def redirect_with_query():\n",
        "    # Redirect to 'destination' route with query parameters\n",
        "    return redirect(url_for('destination', param1='value1', param2='value2'))\n",
        "\n",
        "@app.route('/destination')\n",
        "def destination():\n",
        "    # Access query parameters from the URL\n",
        "    param1 = request.args.get('param1')\n",
        "    param2 = request.args.get('param2')\n",
        "    return f\"Redirected with query parameters: param1 = {param1}, param2 = {param2}\"\n",
        "\n",
        "if __name__ == '__main__':\n",
        "    app.run(debug=True)\n"
      ],
      "metadata": {
        "id": "ALV_M80G0FBe"
      },
      "execution_count": null,
      "outputs": []
    },
    {
      "cell_type": "code",
      "source": [
        "#Q14.How do you return JSON responses in Flask?\n",
        "In **Flask**, you can return **JSON responses** using the `jsonify()` function. This function automatically converts Python dictionaries (or other data types) into a valid **JSON response**.\n",
        "\n",
        "---\n",
        "\n",
        "### ✅ **1. Basic JSON Response with `jsonify()`**\n",
        "\n",
        "Here’s a simple example where we return JSON data as a response:\n",
        "\n",
        "```python\n",
        "from flask import Flask, jsonify\n",
        "\n",
        "app = Flask(__name__)\n",
        "\n",
        "@app.route('/data')\n",
        "def data():\n",
        "    response = {'name': 'John Doe', 'age': 30}\n",
        "    return jsonify(response)\n",
        "\n",
        "if __name__ == '__main__':\n",
        "    app.run(debug=True)\n",
        "```\n",
        "\n",
        "---\n",
        "\n",
        "### ✅ **Explanation:**\n",
        "\n",
        "* **`jsonify(response)`** converts the Python dictionary (`response`) to JSON format.\n",
        "* Flask automatically sets the correct **`Content-Type`** header (`application/json`).\n",
        "\n",
        "---\n",
        "\n",
        "### ✅ **2. Returning JSON Data with HTTP Status Code**\n",
        "\n",
        "You can also return a JSON response with a custom HTTP status code.\n",
        "\n",
        "```python\n",
        "@app.route('/error')\n",
        "def error():\n",
        "    response = {'error': 'Something went wrong!'}\n",
        "    return jsonify(response), 400  # 400 Bad Request\n",
        "```\n",
        "\n",
        "---\n",
        "\n",
        "### ✅ **3. Handling Complex Data**\n",
        "\n",
        "Flask’s `jsonify()` can handle more complex data structures like lists or nested dictionaries.\n",
        "\n",
        "```python\n",
        "@app.route('/complex')\n",
        "def complex_data():\n",
        "    response = {\n",
        "        'user': {'name': 'John Doe', 'age': 30},\n",
        "        'address': {'city': 'New York', 'state': 'NY'}\n",
        "    }\n",
        "    return jsonify(response)\n",
        "```\n",
        "\n",
        "---\n",
        "\n",
        "### ✅ **4. Returning JSON from Form Data or POST Requests**\n",
        "\n",
        "You can also handle **POST requests** and return **JSON** responses:\n",
        "\n",
        "```python\n",
        "from flask import request\n",
        "\n",
        "@app.route('/submit', methods=['POST'])\n",
        "def submit():\n",
        "    data = request.get_json()  # Parse incoming JSON data\n",
        "    return jsonify({'message': 'Data received', 'received': data})\n",
        "```"
      ],
      "metadata": {
        "id": "Qik-wFLE0UAu"
      },
      "execution_count": null,
      "outputs": []
    },
    {
      "cell_type": "code",
      "source": [
        "#Q15.How do you capture URL parameters in Flask?\n",
        "In **Flask**, you can capture **URL parameters** (also known as **route variables**) by defining them directly in the route path and using them in your view functions.\n",
        "\n",
        "There are two types of URL parameters you can capture in Flask:\n",
        "\n",
        "1. **Path Parameters** (or Route Variables)\n",
        "2. **Query Parameters**\n",
        "\n",
        "---\n",
        "\n",
        "### ✅ **1. Capturing Path Parameters**\n",
        "\n",
        "You define the parameters directly in the route path using angle brackets (`<param_name>`).\n",
        "\n",
        "#### Example:\n",
        "\n",
        "```python\n",
        "from flask import Flask\n",
        "\n",
        "app = Flask(__name__)\n",
        "\n",
        "@app.route('/user/<username>')\n",
        "def show_user(username):\n",
        "    return f\"Hello, {username}!\"\n",
        "\n",
        "@app.route('/post/<int:post_id>')\n",
        "def show_post(post_id):\n",
        "    return f\"Post ID: {post_id}\"\n",
        "\n",
        "if __name__ == '__main__':\n",
        "    app.run(debug=True)\n",
        "```\n",
        "\n",
        "#### How It Works:\n",
        "\n",
        "* The route `@app.route('/user/<username>')` will capture whatever is in that part of the URL and pass it as a parameter (`username`) to the `show_user()` function.\n",
        "* The route `@app.route('/post/<int:post_id>')` captures an **integer** from the URL and converts it to an integer (type conversion).\n",
        "\n",
        "#### Example URL:\n",
        "\n",
        "* `http://localhost:5000/user/john` → Output: `Hello, john!`\n",
        "* `http://localhost:5000/post/123` → Output: `Post ID: 123`\n",
        "\n",
        "---\n",
        "\n",
        "### ✅ **2. Capturing Query Parameters**\n",
        "\n",
        "You can capture **query parameters** (the part after the `?` in a URL) using `request.args.get()`.\n",
        "\n",
        "#### Example:\n",
        "\n",
        "```python\n",
        "from flask import Flask, request\n",
        "\n",
        "app = Flask(__name__)\n",
        "\n",
        "@app.route('/search')\n",
        "def search():\n",
        "    query = request.args.get('query')  # Capture 'query' parameter from URL\n",
        "    return f\"Search results for: {query}\"\n",
        "\n",
        "if __name__ == '__main__':\n",
        "    app.run(debug=True)\n",
        "```\n",
        "\n",
        "#### Example URL:\n",
        "\n",
        "* `http://localhost:5000/search?query=flask` → Output: `Search results for: flask`\n",
        "\n",
        "In this case, **`request.args.get('query')`** retrieves the value of the query parameter `query`.\n",
        "\n",
        "---\n",
        "\n",
        "### ✅ **3. Capturing Multiple Query Parameters**\n",
        "\n",
        "You can capture multiple query parameters by calling `request.args.get()` with different parameter names.\n",
        "\n",
        "#### Example:\n",
        "\n",
        "```python\n",
        "@app.route('/filter')\n",
        "def filter_items():\n",
        "    category = request.args.get('category')\n",
        "    price = request.args.get('price')\n",
        "    return f\"Filter items by category: {category}, price: {price}\"\n",
        "```"
      ],
      "metadata": {
        "id": "PRKgtJgm0jCO"
      },
      "execution_count": null,
      "outputs": []
    }
  ]
}