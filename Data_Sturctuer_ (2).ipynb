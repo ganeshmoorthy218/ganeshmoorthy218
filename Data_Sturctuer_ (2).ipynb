{
  "nbformat": 4,
  "nbformat_minor": 0,
  "metadata": {
    "colab": {
      "provenance": []
    },
    "kernelspec": {
      "name": "python3",
      "display_name": "Python 3"
    },
    "language_info": {
      "name": "python"
    }
  },
  "cells": [
    {
      "cell_type": "markdown",
      "source": [
        "1.**DP What are data structures, and why are they important?**\n",
        "- Data structures are ways of organizing and storing data to enable efficient access, manipulation, and storage. They are important because they optimize operations like searching, insertion, deletion, and updating, improving both performance and memory usage. Choosing the right data structure ensures that algorithms run efficiently, especially for large-scale or complex problems."
      ],
      "metadata": {
        "id": "Xok39IBpIkKO"
      }
    },
    {
      "cell_type": "markdown",
      "source": [
        "2.**Explain the difference between mutable and immutable data types with examples.**\n",
        " - Mutable data types can be changed or modified after they are created. Examples include lists, dictionaries, and sets in Python.\n",
        "\n",
        "- Immutable data types cannot be modified after creation. Examples include integers, strings, and tuples in Python.\n",
        "For instance:\n",
        "\n",
        "- Mutable: You can modify a list by adding or removing elements.\n",
        "\n",
        "my_list = [1, 2, 3]\n",
        "\n",
        "my_list.append(4)  # List can be changed\n",
        "\n",
        "Print(\"my_list\",my_list)\n",
        "\n",
        "my_list=[1,2,3,4]\n",
        "\n",
        "- Immutable: You cannot change a string after it's created.\n",
        "\n",
        "my_string = \"hello\"\n",
        "\n",
        "my_string[0] = \"H\"  \n",
        "\n",
        "print(\"my_string\",my_string)\n",
        "\n"
      ],
      "metadata": {
        "id": "h7eEoNfnI9Pg"
      }
    },
    {
      "cell_type": "markdown",
      "source": [
        "3.**What are the main differences between lists and tuples in Python?**\n",
        "- The main differences between lists and tuples in Python are:\n",
        "\n",
        "1.Mutability:\n",
        "\n",
        "List: Mutable (can be modified after creation).\n",
        "\n",
        "Tuple: Immutable (cannot be modified after creation).\n",
        "\n",
        "2.Syntax:\n",
        "\n",
        "List: Defined using square brackets [].\n",
        "\n",
        "Tuple: Defined using parentheses ().\n",
        "\n",
        "3.Performance:\n",
        "\n",
        "List: Slightly slower due to mutability.\n",
        "\n",
        "Tuple: Faster because it's immutable.\n",
        "\n",
        "4.Use case:\n",
        "\n",
        "List: Used when data might need modification.\n",
        "\n",
        "Tuple: Used when data should remain constant.\n",
        "\n",
        "my_list = [1, 2, 3]  # Mutable\n",
        "\n",
        "my_tuple = (1, 2, 3)  # Immutable"
      ],
      "metadata": {
        "id": "ocv24elKK0sG"
      }
    },
    {
      "cell_type": "markdown",
      "source": [
        "4.**Describe how dictionaries store data**\n",
        "\n",
        "- Dictionaries in Python store data as key-value pairs. Each key is unique and maps to a specific value. The data is stored in an unordered manner, but Python optimizes the lookup process to be very fast using a hashing mechanism.\n",
        "\n",
        "Example:\n",
        "\n",
        "my_dict = {\"name\": \"Alice\", \"age\": 25}  # Key-value pairs\n",
        "\n",
        "Here, `\"name\"` and `\"age\"` are keys, and `\"Alice\"` and `25` are their corresponding values."
      ],
      "metadata": {
        "id": "OD-e4eoRLcjq"
      }
    },
    {
      "cell_type": "markdown",
      "source": [
        "5.**Why might you use a set instead of a list in Python?**\n",
        "- You might use a **set** instead of a **list** in Python when:\n",
        "\n",
        "1. **Uniqueness**: Sets automatically eliminate duplicate values, ensuring each element is unique.\n",
        "2. **Efficiency**: Sets offer faster membership tests (O(1) average time complexity) compared to lists (O(n)).\n",
        "3. **Mathematical operations**: Sets support set operations like union, intersection, and difference, which are not directly available with lists.\n",
        "\n",
        "Example:\n",
        "\n",
        "my_set = {1, 2, 3}  # No duplicates allowed\n",
        "\n",
        "my_list = [1, 2, 2, 3]  # Can have duplicates"
      ],
      "metadata": {
        "id": "DDo7JjE0NgZS"
      }
    },
    {
      "cell_type": "markdown",
      "source": [
        "6.**What is a string in Python, and how is it different from a list?**\n",
        "- A **string** in Python is an immutable sequence of characters used to store text. A **list** is a mutable collection that can store items of different types, including strings, numbers, and other lists. The main difference is that strings cannot be changed after creation, while lists can be modified.\n",
        "# String example\n",
        "\n",
        "my_string = \"Python\"\n",
        "\n",
        "print(my_string[0])  # Output: P\n",
        "\n",
        "# List example\n",
        "my_list = [10, 20, \"Python\", [1, 2, 3]]\n",
        "\n",
        "print(my_list[2])  # Output: Python\n",
        "\n"
      ],
      "metadata": {
        "id": "8PR2zUqnOY8K"
      }
    },
    {
      "cell_type": "markdown",
      "source": [
        "7. **How do tuples ensure data integrity in Python?**\n",
        "- Tuples ensure data integrity in Python by being **immutable**, meaning once a tuple is created, its elements cannot be changed, added, or removed. This immutability prevents accidental modifications, ensuring the data remains consistent and reliable throughout the program.\n",
        "\n",
        "Creating a tuple\n",
        "my_tuple = (1, 2, 3)\n",
        "\n",
        "Trying to modify an element (this will raise an error)\n",
        "\n",
        "my_tuple[0] = 10  # This will result in a TypeError: 'tuple' object does not support item assignment\n",
        "\n",
        "print(my_tuple)  # Output: (1, 2, 3)\n",
        "\n"
      ],
      "metadata": {
        "id": "cg7_wKw-TTxT"
      }
    },
    {
      "cell_type": "markdown",
      "source": [
        "8. **What is a hash table, and how does it relate to dictionaries in Python?**\n",
        "- A **hash table** is a data structure that stores key-value pairs, where each key is hashed into an index to quickly access its associated value. In Python, **dictionaries** are implemented using hash tables. The keys in a dictionary are hashed to provide fast lookups, insertions, and deletions, making dictionaries efficient for storing and retrieving data based on unique keys.\n",
        " Creating a dictionary\n",
        "\n",
        "my_dict = {\"name\": \"Alice\", \"age\": 25, \"city\": \"New York\"}\n",
        "\n",
        "Accessing a value using a key (fast lookup)\n",
        "\n",
        "print(my_dict[\"name\"])  # Output: Alice\n",
        "\n",
        "Adding a new key-value pair\n",
        "\n",
        "my_dict[\"job\"] = \"Engineer\"\n",
        "\n",
        "Modifying an existing value\n",
        "\n",
        "my_dict[\"age\"] = 26\n",
        "\n",
        "Removing a key-value pair\n",
        "\n",
        "del my_dict[\"city\"]\n",
        "\n",
        "Output the updated dictionary\n",
        "\n",
        "print(my_dict)  # Output: {'name': 'Alice', 'age': 26, 'job': 'Engineer'}\n"
      ],
      "metadata": {
        "id": "k_1mLq38T8z8"
      }
    },
    {
      "cell_type": "markdown",
      "source": [
        "9.**Can lists contain different data types in Python?**\n",
        "-  Yes, lists in Python can contain elements of different data types. A single list can store integers, strings, floats, or even other lists or objects.\n",
        "\n",
        "Example:\n",
        "```python\n",
        "my_list = [1, \"hello\", 3.14, [1, 2, 3]]\n",
        "print(my_list)  # Output: [1, 'hello', 3.14, [1, 2, 3]]\n",
        "```\n",
        "\n",
        "This demonstrates that lists are flexible and can hold a mix of data types."
      ],
      "metadata": {
        "id": "iHJ1jbt4UY9t"
      }
    },
    {
      "cell_type": "markdown",
      "source": [
        "10.** Explain why strings are immutable in Python.**\n",
        "- Strings are immutable in Python to ensure data integrity and performance. Since strings are often used in many operations, making them immutable allows Python to optimize memory usage by reusing string objects rather than creating new ones every time a string is modified. This immutability also prevents accidental changes to string data, ensuring consistency and reliability in code.\n",
        "Here's an example showing the immutability of strings in Python:\n",
        "\n",
        "```python\n",
        "# Creating a string\n",
        "my_string = \"Hello\"\n",
        "\n",
        "# Trying to modify a character (this will raise an error)\n",
        "# my_string[0] = \"h\"  # This will result in a TypeError: 'str' object does not support item assignment\n",
        "\n",
        "# Creating a new string (strings are immutable, so we create a new one instead of modifying the original)\n",
        "new_string = \"h\" + my_string[1:]\n",
        "\n",
        "print(new_string)  # Output: hello\n",
        "```"
      ],
      "metadata": {
        "id": "XKBZ2OrVUpwc"
      }
    },
    {
      "cell_type": "markdown",
      "source": [
        "11.**What advantages do dictionaries offer over lists for certain tasks?**\n",
        "- Dictionaries offer several advantages over lists for tasks where you need fast lookups, updates, or access to values based on unique keys. Unlike lists, where you access elements by index, dictionaries allow you to access values directly using keys, making operations more efficient (average O(1) time complexity).\n",
        "\n",
        "### Example:\n",
        "```python\n",
        "# Using a list (slower for key-based lookup)\n",
        "my_list = [(\"name\", \"Alice\"), (\"age\", 25)]\n",
        "# Finding the age requires iterating through the list\n",
        "age = next(value for key, value in my_list if key == \"age\")\n",
        "print(age)  # Output: 25\n",
        "\n",
        "# Using a dictionary (faster lookup)\n",
        "my_dict = {\"name\": \"Alice\", \"age\": 25}\n",
        "# Direct access by key\n",
        "print(my_dict[\"age\"])  # Output: 25\n",
        "```"
      ],
      "metadata": {
        "id": "pmBUqu1hVDAM"
      }
    },
    {
      "cell_type": "markdown",
      "source": [
        "12. **Describe a scenario where using a tuple would be preferable over a list**\n",
        "- A tuple is ideal when you want to store **immutable** data, like fixed coordinates, that shouldn't change. Here's an example:\n",
        "\n",
        "```python\n",
        "# Storing coordinates as a tuple (immutable)\n",
        "coordinates = (10, 20)\n",
        "\n",
        "# Trying to modify the tuple would raise an error\n",
        "# coordinates[0] = 15  # TypeError: 'tuple' object does not support item assignment\n",
        "\n",
        "print(coordinates)  # Output: (10, 20)\n",
        "```\n",
        "\n",
        "In this case, a tuple ensures the coordinates cannot be accidentally altered."
      ],
      "metadata": {
        "id": "4hGI55s1VT3O"
      }
    },
    {
      "cell_type": "markdown",
      "source": [
        "13. **How do sets handle duplicate values in Python?**\n",
        "- In Python, **sets** automatically remove duplicate values because they are **unordered collections** that only store unique elements.\n",
        "\n",
        "### Example:\n",
        "```python\n",
        "# Creating a set with duplicate values\n",
        "my_set = {1, 2, 3, 2, 3, 4}\n",
        "\n",
        "# The duplicates are removed\n",
        "print(my_set)  # Output: {1, 2, 3, 4}\n",
        "```\n",
        "\n",
        "In this example, the duplicate values `2` and `3` are automatically removed, leaving only unique elements in the set."
      ],
      "metadata": {
        "id": "Ucpn7vPHVuOo"
      }
    },
    {
      "cell_type": "markdown",
      "source": [
        "14. **How does the “in” keyword work differently for lists and dictionaries?**\n",
        "- The `in` keyword works differently for **lists** and **dictionaries**:\n",
        "\n",
        "- For **lists**, `in` checks if a value exists in the list.\n",
        "- For **dictionaries**, `in` checks if a **key** exists in the dictionary.\n",
        "\n",
        "### Example:\n",
        "\n",
        "```python\n",
        "# List example\n",
        "my_list = [1, 2, 3]\n",
        "print(2 in my_list)  # Output: True (checks for value)\n",
        "\n",
        "# Dictionary example\n",
        "my_dict = {\"name\": \"Alice\", \"age\": 25}\n",
        "print(\"age\" in my_dict)  # Output: True (checks for key)\n",
        "print(25 in my_dict)  # Output: False (checks for value, not key)\n",
        "```"
      ],
      "metadata": {
        "id": "Pgd0-1NQWX-T"
      }
    },
    {
      "cell_type": "markdown",
      "source": [
        "15.**Can you modify the elements of a tuple? Explain why or why not**\n",
        "- No, you cannot modify the elements of a tuple because tuples are **immutable** in Python. Once a tuple is created, its contents cannot be changed, which ensures data integrity.\n",
        "\n",
        "### Example:\n",
        "```python\n",
        "# Creating a tuple\n",
        "my_tuple = (1, 2, 3)\n",
        "\n",
        "# Trying to modify an element will raise an error\n",
        "# my_tuple[0] = 10  # TypeError: 'tuple' object does not support item assignment\n",
        "```"
      ],
      "metadata": {
        "id": "WGU_k_G5W4CN"
      }
    },
    {
      "cell_type": "markdown",
      "source": [
        "16.**What is a nested dictionary, and give an example of its use case?**\n",
        "- A **nested dictionary** is a dictionary where the values are other dictionaries. This allows you to represent complex data structures, like data with multiple levels of keys and values.\n",
        "\n",
        "### Use case example:\n",
        "A nested dictionary can be used to store information about students, where each student has details like name, age, and subjects.\n",
        "\n",
        "```python\n",
        "# Nested dictionary example\n",
        "students = {\n",
        "    \"Alice\": {\"age\": 20, \"subjects\": [\"Math\", \"Science\"]},\n",
        "    \"Bob\": {\"age\": 22, \"subjects\": [\"History\", \"English\"]},\n",
        "}\n",
        "\n",
        "# Accessing a nested value\n",
        "print(students[\"Alice\"][\"age\"])  # Output: 20\n",
        "print(students[\"Bob\"][\"subjects\"])  # Output: ['History', 'English']\n",
        "```"
      ],
      "metadata": {
        "id": "RM-rDzANXSak"
      }
    },
    {
      "cell_type": "markdown",
      "source": [
        "17.**Describe the time complexity of accessing elements in a dictionary?**\n",
        "- In Python, the time complexity of accessing an element in a **dictionary** is **O(1)** on average. This is because dictionaries use a hash table internally, allowing for constant-time lookups based on the key.\n",
        "\n",
        "### Example:\n",
        "```python\n",
        "my_dict = {\"name\": \"Alice\", \"age\": 25}\n",
        "\n",
        "# Accessing an element by key\n",
        "print(my_dict[\"name\"])  # Output: Alice\n",
        "```\n",
        "\n",
        "Here, accessing `\"name\"` in the dictionary happens in constant time, **O(1)**, because the key is hashed and the value is retrieved directly. However, in rare cases (e.g., hash collisions), the time complexity could be **O(n)**, but these cases are uncommon."
      ],
      "metadata": {
        "id": "dXx5zTe1X00X"
      }
    },
    {
      "cell_type": "markdown",
      "source": [
        "18.**In what situations are lists preferred over dictionaries?**\n",
        "- **Lists** are preferred over **dictionaries** when the data is **ordered** and you need to maintain the sequence of elements or when you need to access elements by **index** rather than by key.\n",
        "\n",
        "### Example:\n",
        "1. **When the order matters**:\n",
        "   ```python\n",
        "   my_list = [10, 20, 30, 40]\n",
        "   print(my_list[2])  # Output: 30\n",
        "   ```\n",
        "\n",
        "2. **When you have a collection of similar items**:\n",
        "   ```python\n",
        "   fruits = [\"apple\", \"banana\", \"cherry\"]\n",
        "   ```\n",
        "\n",
        "In these cases, lists are more suitable because they preserve order and allow for indexed access, which is useful when the data has a specific sequence or when you're working with a simple collection of items."
      ],
      "metadata": {
        "id": "7Eb-o5oSYCu1"
      }
    },
    {
      "cell_type": "markdown",
      "source": [
        "19.**Why are dictionaries considered unordered, and how does that affect data retrieval?**\n",
        "- Dictionaries in Python are considered **unordered** because they do not maintain the order of insertion for key-value pairs. Prior to Python 3.7, dictionaries did not guarantee the order of items, but since Python 3.7+, they do preserve insertion order. However, the primary focus is on efficient key-based lookup, not on ordering.\n",
        "\n",
        "### Effect on Data Retrieval:\n",
        "- **Access by Key**: Retrieval is fast and based on the key, not the order.\n",
        "- **No Indexing**: You cannot access elements by position, like in a list.\n",
        "\n",
        "### Example:\n",
        "```python\n",
        "# Dictionary (insertion order preserved from Python 3.7+)\n",
        "my_dict = {\"name\": \"Alice\", \"age\": 25, \"city\": \"New York\"}\n",
        "\n",
        "# Access by key\n",
        "print(my_dict[\"name\"])  # Output: Alice\n",
        "\n",
        "# No direct access by index\n",
        "# print(my_dict[1])  # This will raise an error\n",
        "```\n",
        "\n",
        "In this example, data retrieval is based on the key, not the order in which the items were added. However, while the order is preserved in Python 3.7+, it does not affect how the dictionary is used for efficient lookups."
      ],
      "metadata": {
        "id": "HvAlHKVOZKZJ"
      }
    },
    {
      "cell_type": "markdown",
      "source": [
        "20. **Explain the difference between a list and a dictionary in terms of data retrieval.**\n",
        "- The key difference between a **list** and a **dictionary** in terms of data retrieval is:\n",
        "\n",
        "- In a **list**, data is accessed by **index** (position in the list).\n",
        "- In a **dictionary**, data is accessed by **key** (a unique identifier).\n",
        "\n",
        "### Example:\n",
        "```python\n",
        "# List example (access by index)\n",
        "my_list = [10, 20, 30]\n",
        "print(my_list[1])  # Output: 20  (accessing by index)\n",
        "\n",
        "# Dictionary example (access by key)\n",
        "my_dict = {\"name\": \"Alice\", \"age\": 25}\n",
        "print(my_dict[\"name\"])  # Output: Alice  (accessing by key)\n",
        "```\n",
        "\n",
        "In this example, lists require an index for retrieval, while dictionaries require a key. This makes dictionaries ideal for associative mappings, while lists are better for ordered collections."
      ],
      "metadata": {
        "id": "TF2ot1blZfZZ"
      }
    },
    {
      "cell_type": "markdown",
      "source": [
        "Practical Questions"
      ],
      "metadata": {
        "id": "qHa3P7ZHZwTc"
      }
    },
    {
      "cell_type": "code",
      "source": [
        "#1.Write a code to create a string with your name and print it.\n",
        "my_name = \"Ganesh\"\n",
        "print (my_name)"
      ],
      "metadata": {
        "colab": {
          "base_uri": "https://localhost:8080/"
        },
        "id": "Y0YvoeeFZ6LT",
        "outputId": "a4bf33b6-d0c0-4c1b-95db-ae7d2f0bd81b"
      },
      "execution_count": 3,
      "outputs": [
        {
          "output_type": "stream",
          "name": "stdout",
          "text": [
            "Ganesh\n"
          ]
        }
      ]
    },
    {
      "cell_type": "code",
      "source": [
        "#2.Write a code to find the length of the string \"Hello World\"\n",
        "my_string = \"Hello World\"\n",
        "print(len(my_string))"
      ],
      "metadata": {
        "colab": {
          "base_uri": "https://localhost:8080/"
        },
        "id": "UnUmJvBabX7B",
        "outputId": "4263eaf8-cafd-4ab1-cc8a-207d3c3c5175"
      },
      "execution_count": 4,
      "outputs": [
        {
          "output_type": "stream",
          "name": "stdout",
          "text": [
            "11\n"
          ]
        }
      ]
    },
    {
      "cell_type": "code",
      "source": [
        "#3.Write a code to slice the first 3 characters from the string \"Python Programming\"\n",
        "my_string = \"Python Programming\"\n",
        "print(my_string[0:3])"
      ],
      "metadata": {
        "colab": {
          "base_uri": "https://localhost:8080/"
        },
        "id": "qwHTusUOcA_b",
        "outputId": "559ccd74-5662-4a32-9dcc-17496feea756"
      },
      "execution_count": 5,
      "outputs": [
        {
          "output_type": "stream",
          "name": "stdout",
          "text": [
            "Pyt\n"
          ]
        }
      ]
    },
    {
      "cell_type": "code",
      "source": [
        "#4.Write a code to convert the string \"hello\" to uppercase.\n",
        "my_string = \"hello\"\n",
        "upper_string = my_string.upper()\n",
        "print(upper_string)"
      ],
      "metadata": {
        "colab": {
          "base_uri": "https://localhost:8080/"
        },
        "id": "pi4_hv8-crUy",
        "outputId": "09aa683b-0baa-4274-d00a-1d6e1350f514"
      },
      "execution_count": 9,
      "outputs": [
        {
          "output_type": "stream",
          "name": "stdout",
          "text": [
            "HELLO\n"
          ]
        }
      ]
    },
    {
      "cell_type": "code",
      "source": [
        "#5.Write a code to replace the word \"apple\" with \"orange\" in the string \"I like apple\"\n",
        "my_string = \"I like apple\"\n",
        "new_string = my_string.replace(\"apple\",\"orange\")\n",
        "print(new_string)"
      ],
      "metadata": {
        "colab": {
          "base_uri": "https://localhost:8080/"
        },
        "id": "Luwql9sbdiQZ",
        "outputId": "db0b5d1a-66ed-4858-ebb4-df255a11d78a"
      },
      "execution_count": 12,
      "outputs": [
        {
          "output_type": "stream",
          "name": "stdout",
          "text": [
            "I like orange\n"
          ]
        }
      ]
    },
    {
      "cell_type": "code",
      "source": [
        "#6.Write a code to create a list with numbers 1 to 5 and print it.\n",
        "my_list = [1,2,3,4,5]\n",
        "print(my_list)"
      ],
      "metadata": {
        "colab": {
          "base_uri": "https://localhost:8080/"
        },
        "id": "QFIaRsD7eTMW",
        "outputId": "e3002f73-13a6-47f2-bb64-35e263a5542d"
      },
      "execution_count": 13,
      "outputs": [
        {
          "output_type": "stream",
          "name": "stdout",
          "text": [
            "[1, 2, 3, 4, 5]\n"
          ]
        }
      ]
    },
    {
      "cell_type": "code",
      "source": [
        "#7.Write a code to append the number 10 to the list [1, 2, 3, 4].\n",
        "my_list = [1,2,3,4]\n",
        "my_list.append(10)\n",
        "print(my_list)\n"
      ],
      "metadata": {
        "colab": {
          "base_uri": "https://localhost:8080/"
        },
        "id": "aLyAWqoOetJa",
        "outputId": "28c2c385-e0e5-4c0d-cd25-100e51ec6c36"
      },
      "execution_count": 14,
      "outputs": [
        {
          "output_type": "stream",
          "name": "stdout",
          "text": [
            "[1, 2, 3, 4, 10]\n"
          ]
        }
      ]
    },
    {
      "cell_type": "code",
      "source": [
        "#8.Write a code to remove the number 3 from the list [1, 2, 3, 4, 5]\n",
        "my_list = [1,2,3,4,5]\n",
        "my_list.remove(3)\n",
        "print(my_list)"
      ],
      "metadata": {
        "colab": {
          "base_uri": "https://localhost:8080/"
        },
        "id": "LM157b_dfQkg",
        "outputId": "6e07378d-87af-4543-ad8c-e94c518e19ec"
      },
      "execution_count": 15,
      "outputs": [
        {
          "output_type": "stream",
          "name": "stdout",
          "text": [
            "[1, 2, 4, 5]\n"
          ]
        }
      ]
    },
    {
      "cell_type": "code",
      "source": [
        "#9.Write a code to access the second element in the list ['a', 'b', 'c', 'd'].\n",
        "my_list = ['a','b','c','d']\n",
        "print(my_list[1])"
      ],
      "metadata": {
        "colab": {
          "base_uri": "https://localhost:8080/"
        },
        "id": "pIFd1goJfoqJ",
        "outputId": "21247a90-411e-4fcd-97c4-8642eaa5e0ae"
      },
      "execution_count": 16,
      "outputs": [
        {
          "output_type": "stream",
          "name": "stdout",
          "text": [
            "b\n"
          ]
        }
      ]
    },
    {
      "cell_type": "code",
      "source": [
        "#10.Write a code to reverse the list [10, 20, 30, 40, 50]\n",
        "my_list = [10,20,30,40,50]\n",
        "my_list.reverse()\n",
        "print(my_list)\n"
      ],
      "metadata": {
        "colab": {
          "base_uri": "https://localhost:8080/"
        },
        "id": "9rN9gD3PgGPQ",
        "outputId": "aab6e1b0-1ef1-4d07-b554-7e77228ebbe9"
      },
      "execution_count": 18,
      "outputs": [
        {
          "output_type": "stream",
          "name": "stdout",
          "text": [
            "[50, 40, 30, 20, 10]\n"
          ]
        }
      ]
    },
    {
      "cell_type": "code",
      "source": [
        "#11.Write a code to create a tuple with the elements 100, 200, 300 and print it.\n",
        "my_tuple = (100,200,300)\n",
        "my_tuple=tuple(my_tuple)\n",
        "print(my_tuple)"
      ],
      "metadata": {
        "colab": {
          "base_uri": "https://localhost:8080/"
        },
        "id": "eD0AXkGCheS8",
        "outputId": "a3defd42-34f4-4ef5-f3f8-7ec85a16d702"
      },
      "execution_count": 19,
      "outputs": [
        {
          "output_type": "stream",
          "name": "stdout",
          "text": [
            "(100, 200, 300)\n"
          ]
        }
      ]
    },
    {
      "cell_type": "code",
      "source": [
        "#12.Write a code to access the second-to-last element of the tuple ('red', 'green', 'blue', 'yellow').\n",
        "my_tuple = ('red', 'green', 'blue', 'yellow')\n",
        "print(my_tuple[-2])\n"
      ],
      "metadata": {
        "colab": {
          "base_uri": "https://localhost:8080/"
        },
        "id": "xlX8Iz85h_F5",
        "outputId": "753a0ac4-4a18-4265-a8bb-c8bf873d6be3"
      },
      "execution_count": 20,
      "outputs": [
        {
          "output_type": "stream",
          "name": "stdout",
          "text": [
            "blue\n"
          ]
        }
      ]
    },
    {
      "cell_type": "code",
      "source": [
        "#13.Write a code to find the minimum number in the tuple (10, 20, 5, 15).\n",
        "my_tuple = (10, 20, 5, 15)\n",
        "print(min(my_tuple))"
      ],
      "metadata": {
        "colab": {
          "base_uri": "https://localhost:8080/"
        },
        "id": "qsIvtrhtipgq",
        "outputId": "573af146-f3af-4312-d0b4-85faffc1c110"
      },
      "execution_count": 21,
      "outputs": [
        {
          "output_type": "stream",
          "name": "stdout",
          "text": [
            "5\n"
          ]
        }
      ]
    },
    {
      "cell_type": "code",
      "source": [
        "#14.Write a code to find the index of the element \"cat\" in the tuple ('dog', 'cat', 'rabbit')\n",
        "my_tuple = ('dog', 'cat', 'rabbit')\n",
        "index_of_cat=my_tuple.index('cat')\n",
        "print(index_of_cat)"
      ],
      "metadata": {
        "colab": {
          "base_uri": "https://localhost:8080/"
        },
        "id": "PcqRgXPujIUf",
        "outputId": "45a04430-76b0-4753-c282-c08a00784b5f"
      },
      "execution_count": 24,
      "outputs": [
        {
          "output_type": "stream",
          "name": "stdout",
          "text": [
            "1\n"
          ]
        }
      ]
    },
    {
      "cell_type": "code",
      "source": [
        "#15.Write a code to create a tuple containing three different fruits and check if \"kiwi\" is in it.\n",
        "my_tuple = (\"apple\",\"banana\",\"orange\")\n",
        "my_fruit = \"kiwi\"\n",
        "print(my_fruit in my_tuple)"
      ],
      "metadata": {
        "colab": {
          "base_uri": "https://localhost:8080/"
        },
        "id": "sFhCE5uikXXg",
        "outputId": "60101423-1d3c-4aa4-ebdc-332c91a2d033"
      },
      "execution_count": 25,
      "outputs": [
        {
          "output_type": "stream",
          "name": "stdout",
          "text": [
            "False\n"
          ]
        }
      ]
    },
    {
      "cell_type": "code",
      "source": [
        "#16.Write a code to create a set with the elements 'a', 'b', 'c' and print it.\n",
        "my_set = {'a','b','c'}\n",
        "print(my_set)"
      ],
      "metadata": {
        "colab": {
          "base_uri": "https://localhost:8080/"
        },
        "id": "AEvYUyiXlODu",
        "outputId": "ab939d11-8e73-4c63-9288-5f0937b9b524"
      },
      "execution_count": 29,
      "outputs": [
        {
          "output_type": "stream",
          "name": "stdout",
          "text": [
            "{'a', 'c', 'b'}\n"
          ]
        }
      ]
    },
    {
      "cell_type": "code",
      "source": [
        "#17.Write a code to clear all elements from the set {1, 2, 3, 4, 5}.\n",
        "my_set = {1,2,3,4,5}\n",
        "my_set.clear()\n",
        "print(my_set)"
      ],
      "metadata": {
        "colab": {
          "base_uri": "https://localhost:8080/"
        },
        "id": "u_ZPtg2tmA7J",
        "outputId": "b223d1af-f67f-45d8-dc7a-3190d3e9fced"
      },
      "execution_count": 30,
      "outputs": [
        {
          "output_type": "stream",
          "name": "stdout",
          "text": [
            "set()\n"
          ]
        }
      ]
    },
    {
      "cell_type": "code",
      "source": [
        "#18.Write a code to remove the element 4 from the set {1, 2, 3, 4}.\n",
        "my_set = {1,2,3,4}\n",
        "my_set.remove(4)\n",
        "print(my_set)"
      ],
      "metadata": {
        "colab": {
          "base_uri": "https://localhost:8080/"
        },
        "id": "AkG8xllJmexC",
        "outputId": "7e7b8fae-e513-417f-accc-305a28202beb"
      },
      "execution_count": 31,
      "outputs": [
        {
          "output_type": "stream",
          "name": "stdout",
          "text": [
            "{1, 2, 3}\n"
          ]
        }
      ]
    },
    {
      "cell_type": "code",
      "source": [
        "\n",
        "#19. Write a code to find the union of two sets {1, 2, 3} and {3, 4, 5}.\n",
        "my_set1 = {1,2,3}\n",
        "my_set2 = {3,4,5}\n",
        "Union_set = my_set.union(my_set2)\n",
        "print(Union_set)"
      ],
      "metadata": {
        "colab": {
          "base_uri": "https://localhost:8080/"
        },
        "id": "2ktV8FP9m0Ie",
        "outputId": "e485cca9-3dca-4872-accd-694ef55b533e"
      },
      "execution_count": 34,
      "outputs": [
        {
          "output_type": "stream",
          "name": "stdout",
          "text": [
            "{1, 2, 3, 4, 5}\n"
          ]
        }
      ]
    },
    {
      "cell_type": "code",
      "source": [
        "#20.Write a code to find the intersection of two sets {1, 2, 3} and {2, 3, 4}.\n",
        "my_set1 = {1,2,3}\n",
        "my_set2 = {2,3,4}\n",
        "intersection_set = my_set1.intersection(my_set2)\n",
        "print(intersection_set)"
      ],
      "metadata": {
        "colab": {
          "base_uri": "https://localhost:8080/"
        },
        "id": "tpDyCj9xnquS",
        "outputId": "35088ff9-ac29-4200-f0eb-e8fac4de976e"
      },
      "execution_count": 35,
      "outputs": [
        {
          "output_type": "stream",
          "name": "stdout",
          "text": [
            "{2, 3}\n"
          ]
        }
      ]
    },
    {
      "cell_type": "code",
      "source": [
        "#21. Write a code to create a dictionary with the keys \"name\", \"age\", and \"city\", and print it.\n",
        "my_dict = {\"name\":\"Ganesh\",\"age\":25,\"city\":\"Mumbai\"}\n",
        "print(my_dict)\n"
      ],
      "metadata": {
        "colab": {
          "base_uri": "https://localhost:8080/"
        },
        "id": "Gt0842Aqod14",
        "outputId": "4dd06b0b-159d-42e5-e53a-59222b117647"
      },
      "execution_count": 37,
      "outputs": [
        {
          "output_type": "stream",
          "name": "stdout",
          "text": [
            "{'name': 'Ganesh', 'age': 25, 'city': 'Mumbai'}\n"
          ]
        }
      ]
    },
    {
      "cell_type": "code",
      "source": [
        "#22.Write a code to add a new key-value pair \"country\": \"USA\" to the dictionary {'name': 'John', 'age': 25}.\n",
        "my_dict = {\"name\":'John',\"age\":25}\n",
        "my_dict[\"country\"] = 'USA'\n",
        "print(my_dict)"
      ],
      "metadata": {
        "colab": {
          "base_uri": "https://localhost:8080/"
        },
        "id": "Abf3deVFpFQi",
        "outputId": "0ca91a08-5531-4915-89e1-192ca2ce2a86"
      },
      "execution_count": 40,
      "outputs": [
        {
          "output_type": "stream",
          "name": "stdout",
          "text": [
            "{'name': 'John', 'age': 25, 'country': 'USA'}\n"
          ]
        }
      ]
    },
    {
      "cell_type": "code",
      "source": [
        "#23.Write a code to access the value associated with the key \"name\" in the dictionary {'name': 'Alice', 'age': 30}.\n",
        "my_dict = {'name':'Alice','age':30}\n",
        "print(my_dict['name'])"
      ],
      "metadata": {
        "colab": {
          "base_uri": "https://localhost:8080/"
        },
        "id": "8ucEN6SwqXjx",
        "outputId": "84458afa-ab99-4133-9a92-128fc1e9d546"
      },
      "execution_count": 42,
      "outputs": [
        {
          "output_type": "stream",
          "name": "stdout",
          "text": [
            "Alice\n"
          ]
        }
      ]
    },
    {
      "cell_type": "code",
      "source": [
        "#24. Write a code to remove the key \"age\" from the dictionary {'name': 'Bob', 'age': 22, 'city': 'New York'}.\n",
        "my_dict = {'name': 'Bob', 'age': 22, 'city': 'New York'}\n",
        "del my_dict['age']\n",
        "print(my_dict)"
      ],
      "metadata": {
        "colab": {
          "base_uri": "https://localhost:8080/"
        },
        "id": "oXSFIpGDqy0B",
        "outputId": "7f61b7d1-013e-452f-ec76-3bd18f935503"
      },
      "execution_count": 47,
      "outputs": [
        {
          "output_type": "stream",
          "name": "stdout",
          "text": [
            "{'name': 'Bob', 'city': 'New York'}\n"
          ]
        }
      ]
    },
    {
      "cell_type": "code",
      "source": [
        "#25. Write a code to check if the key \"city\" exists in the dictionary {'name': 'Alice', 'city': 'Paris'}.\n",
        "my_dict = {'name': 'Alice', 'city': 'Paris'}\n",
        "print('city' in my_dict)"
      ],
      "metadata": {
        "colab": {
          "base_uri": "https://localhost:8080/"
        },
        "id": "1BjjpWRyr0FP",
        "outputId": "51d32a0a-5a0b-467d-84b4-dd0e47c50b0e"
      },
      "execution_count": 48,
      "outputs": [
        {
          "output_type": "stream",
          "name": "stdout",
          "text": [
            "True\n"
          ]
        }
      ]
    },
    {
      "cell_type": "code",
      "source": [
        "#26.Write a code to create a list, a tuple, and a dictionary, and print them all.\n",
        "my_list = [1,2,3]\n",
        "my_tuple = (1,2,3)\n",
        "my_dict = {'name':'Ganesh','age':25,'city':'Mumbai'}\n",
        "print(my_list)\n",
        "print(my_tuple)\n",
        "print(my_dict)"
      ],
      "metadata": {
        "colab": {
          "base_uri": "https://localhost:8080/"
        },
        "id": "PQ4p_sbWsMPk",
        "outputId": "65ceab18-45ba-4047-d742-840fdcb48a22"
      },
      "execution_count": 49,
      "outputs": [
        {
          "output_type": "stream",
          "name": "stdout",
          "text": [
            "[1, 2, 3]\n",
            "(1, 2, 3)\n",
            "{'name': 'Ganesh', 'age': 25, 'city': 'Mumbai'}\n"
          ]
        }
      ]
    },
    {
      "cell_type": "code",
      "source": [
        "#27.Write a code to create a list of 5 random numbers between 1 and 100, sort it in ascending order, and print the result.(replaced)\n",
        "import random\n",
        "random_numbers = [random.randint(1, 100) for _ in range(5)]\n",
        "random_numbers.sort()\n",
        "print(random_numbers)\n"
      ],
      "metadata": {
        "colab": {
          "base_uri": "https://localhost:8080/"
        },
        "id": "-KIeDv-6s4CQ",
        "outputId": "a9298b8a-9cb5-41b5-c6ff-96651b46b4b1"
      },
      "execution_count": 52,
      "outputs": [
        {
          "output_type": "stream",
          "name": "stdout",
          "text": [
            "[3, 86, 86, 94, 94]\n"
          ]
        }
      ]
    },
    {
      "cell_type": "code",
      "source": [
        "#28.Write a code to create a list with strings and print the element at the third index.\n",
        "my_list = [\"apple\",\"banana\",\"organ\",\"grapes\"]\n",
        "print(my_list[2])"
      ],
      "metadata": {
        "colab": {
          "base_uri": "https://localhost:8080/"
        },
        "id": "mafi1Avdtvul",
        "outputId": "7a1ebed4-312e-4419-fc3b-053ebf6da51d"
      },
      "execution_count": 54,
      "outputs": [
        {
          "output_type": "stream",
          "name": "stdout",
          "text": [
            "organ\n"
          ]
        }
      ]
    },
    {
      "cell_type": "code",
      "source": [
        "#29.Write a code to combine two dictionaries into one and print the result.\n",
        "my_dict1 = {\"name\":\"Ganesh\",\"age\":25}\n",
        "my_dict2 = {\"city\":\"Mumbai\",\"country\":\"india\"}\n",
        "print(my_dict1|my_dict2)"
      ],
      "metadata": {
        "colab": {
          "base_uri": "https://localhost:8080/"
        },
        "id": "N97wR0Khur4O",
        "outputId": "b33bc288-13a1-444f-8894-b77890e8d8df"
      },
      "execution_count": 55,
      "outputs": [
        {
          "output_type": "stream",
          "name": "stdout",
          "text": [
            "{'name': 'Ganesh', 'age': 25, 'city': 'Mumbai', 'country': 'india'}\n"
          ]
        }
      ]
    },
    {
      "cell_type": "code",
      "source": [
        "#30.Write a code to convert a list of strings into a set.\n",
        "my_list = [\"apple\",\"banana\",\"organ\",\"grapes\"]\n",
        "my_set = set(my_list)\n",
        "print(my_set)\n"
      ],
      "metadata": {
        "colab": {
          "base_uri": "https://localhost:8080/"
        },
        "id": "MUKBsLGRvcqf",
        "outputId": "822408ae-0606-4614-d424-40c84a8c82d7"
      },
      "execution_count": 57,
      "outputs": [
        {
          "output_type": "stream",
          "name": "stdout",
          "text": [
            "{'organ', 'banana', 'apple', 'grapes'}\n"
          ]
        }
      ]
    }
  ]
}